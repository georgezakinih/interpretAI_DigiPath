{
 "cells": [
  {
   "cell_type": "markdown",
   "metadata": {
    "colab_type": "text",
    "id": "view-in-github"
   },
   "source": [
    "<a href=\"https://colab.research.google.com/github/maragraziani/interpretAI_DigiPath/blob/main/data_setup.ipynb\" target=\"_parent\"><img src=\"https://colab.research.google.com/assets/colab-badge.svg\" alt=\"Open In Colab\"/></a>"
   ]
  },
  {
   "cell_type": "markdown",
   "metadata": {
    "id": "f67sBOzF5_kS"
   },
   "source": [
    "# This notebook helps you to set up the data for the experiments.\n",
    "### You are encouraged to do this **before the workshop**, \n",
    "\n",
    "An easy way to get everything set up is connecting the Colab Notebook to your GDrive to store the data. \n",
    "This notebook will drive you step by step through the passages. \n",
    "\n",
    "You can start by running the code in the box below. A link will be generated asking the permission to connect to your GDrive. You should log in with your gmail account, accept the request and copy paste the generated code inside the texbox.\n",
    "\n",
    "If you do not want to connect the Colab to your GDrive, remember to upload manually the data folder in the github (path/) to the runtime filesystem.\n",
    "\n",
    "The cells in this notebook will download the files directly in your drive folder. "
   ]
  },
  {
   "cell_type": "code",
   "execution_count": 3,
   "metadata": {
    "colab": {
     "base_uri": "https://localhost:8080/"
    },
    "id": "GaBD4Ghp5qpZ",
    "outputId": "6a62abe0-fd90-4628-b5a8-d6941d6cda00"
   },
   "outputs": [
    {
     "name": "stdout",
     "output_type": "stream",
     "text": [
      "Drive already mounted at /content/drive; to attempt to forcibly remount, call drive.mount(\"/content/drive\", force_remount=True).\n"
     ]
    }
   ],
   "source": [
    "from google.colab import drive\n",
    "drive.mount('/content/drive')"
   ]
  },
  {
   "cell_type": "code",
   "execution_count": 2,
   "metadata": {
    "collapsed": true,
    "id": "jPrW4_sG53Ri"
   },
   "outputs": [],
   "source": [
    "import os\n",
    "if os.path.exists('/content/drive/MyDrive/CNNinterpret')==False:\n",
    "    os.mkdir('/content/drive/MyDrive/CNNinterpret')"
   ]
  },
  {
   "cell_type": "markdown",
   "metadata": {
    "id": "_aCac_Pd6wyr"
   },
   "source": [
    "This demo uses the Camelyon dataset [1]. \n",
    "\n",
    "To facilitate research on these challenging data, a subset of images with fixed splits called PatchCamelyon (PCam) was released for benchmarking by Bastiaan S, Veeling and Jasper Linmans, Jim Winkens, Taco Cohen and Max Welling [2].\n",
    "**You can add the PCam data to your GDrive account by selecting the option \"create a shortcut to my Drive\" at this link:** https://drive.google.com/drive/folders/1gHou49cA1s5vua2V5L98Lt8TiWA3FrKB?usp=sharing\n",
    "Otherwise, you can download the data by following this notebook. You are strongly encouraged to perform the download before the workshop, as it may take several minutes.\n",
    "\n",
    "NOTE: you will need to run some of the download cells below even if you already downloaded the data beforehand. These will be highlighted in the code. \n",
    "\n",
    "[1] B. S. Veeling, J. Linmans, J. Winkens, T. Cohen, M. Welling. \"Rotation Equivariant CNNs for Digital Pathology\". arXiv:1806.03962\n",
    "\n",
    "[2] Ehteshami Bejnordi et al. Diagnostic Assessment of Deep Learning Algorithms for Detection of Lymph Node Metastases in Women With Breast Cancer. JAMA: The Journal of the American Medical Association, 318(22), 2199–2210. doi:jama.2017.14585"
   ]
  },
  {
   "cell_type": "code",
   "execution_count": 4,
   "metadata": {
    "colab": {
     "base_uri": "https://localhost:8080/"
    },
    "id": "Z52ojFtmTX0a",
    "outputId": "88866a4a-2760-4193-f888-c428ac472785"
   },
   "outputs": [
    {
     "name": "stdout",
     "output_type": "stream",
     "text": [
      "--2021-04-07 12:38:22--  https://zenodo.org/record/4669282/files/camelyonpatch_level_2_split_valid_y.h5.gz\n",
      "Resolving zenodo.org (zenodo.org)... 137.138.76.77\n",
      "Connecting to zenodo.org (zenodo.org)|137.138.76.77|:443... connected.\n",
      "HTTP request sent, awaiting response... 200 OK\n",
      "Length: 3038 (3.0K) [application/octet-stream]\n",
      "Saving to: ‘camelyonpatch_level_2_split_valid_y.h5.gz’\n",
      "\n",
      "camelyonpatch_level 100%[===================>]   2.97K  --.-KB/s    in 0s      \n",
      "\n",
      "2021-04-07 12:38:23 (413 MB/s) - ‘camelyonpatch_level_2_split_valid_y.h5.gz’ saved [3038/3038]\n",
      "\n"
     ]
    }
   ],
   "source": [
    "!wget https://zenodo.org/record/4669282/files/camelyonpatch_level_2_split_valid_y.h5.gz\n",
    "!mv camelyonpatch_level_2_split_valid_y.h5.gz /content/drive/MyDrive/CNNinterpret/\n",
    "!gunzip /content/drive/MyDrive/CNNinterpret/camelyonpatch_level_2_split_valid_y.h5.gz"
   ]
  },
  {
   "cell_type": "code",
   "execution_count": 6,
   "metadata": {
    "colab": {
     "base_uri": "https://localhost:8080/"
    },
    "id": "RAHTii9pVzw8",
    "outputId": "38eafaf1-4b7a-4964-e47b-b0215056548e"
   },
   "outputs": [
    {
     "name": "stdout",
     "output_type": "stream",
     "text": [
      "--2021-04-07 12:44:06--  https://zenodo.org/record/2546921/files/camelyonpatch_level_2_split_valid_x.h5.gz\n",
      "Resolving zenodo.org (zenodo.org)... 137.138.76.77\n",
      "Connecting to zenodo.org (zenodo.org)|137.138.76.77|:443... connected.\n",
      "HTTP request sent, awaiting response... 200 OK\n",
      "Length: 805965320 (769M) [application/octet-stream]\n",
      "Saving to: ‘camelyonpatch_level_2_split_valid_x.h5.gz’\n",
      "\n",
      "camelyonpatch_level 100%[===================>] 768.63M  4.45MB/s    in 2m 22s  \n",
      "\n",
      "2021-04-07 12:46:30 (5.43 MB/s) - ‘camelyonpatch_level_2_split_valid_x.h5.gz’ saved [805965320/805965320]\n",
      "\n"
     ]
    }
   ],
   "source": [
    "!wget https://zenodo.org/record/2546921/files/camelyonpatch_level_2_split_valid_x.h5.gz\n",
    "!mv camelyonpatch_level_2_split_valid_x.h5.gz /content/drive/MyDrive/CNNinterpret/\n",
    "!gunzip /content/drive/MyDrive/CNNinterpret/camelyonpatch_level_2_split_valid_x.h5.gz"
   ]
  },
  {
   "cell_type": "code",
   "execution_count": 7,
   "metadata": {
    "colab": {
     "base_uri": "https://localhost:8080/"
    },
    "id": "pO91NWRDWchd",
    "outputId": "b1ebfd64-eff3-421f-e92c-bd0ee94b4773"
   },
   "outputs": [
    {
     "name": "stdout",
     "output_type": "stream",
     "text": [
      "--2021-04-07 12:51:47--  https://zenodo.org/record/4669282/files/elephant.jpg\n",
      "Resolving zenodo.org (zenodo.org)... 137.138.76.77\n",
      "Connecting to zenodo.org (zenodo.org)|137.138.76.77|:443... connected.\n",
      "HTTP request sent, awaiting response... 200 OK\n",
      "Length: 1167136 (1.1M) [image/jpeg]\n",
      "Saving to: ‘elephant.jpg’\n",
      "\n",
      "elephant.jpg        100%[===================>]   1.11M  1.09MB/s    in 1.0s    \n",
      "\n",
      "2021-04-07 12:51:49 (1.09 MB/s) - ‘elephant.jpg’ saved [1167136/1167136]\n",
      "\n",
      "--2021-04-07 12:51:49--  https://zenodo.org/record/4669282/files/hummingbird.jpg\n",
      "Resolving zenodo.org (zenodo.org)... 137.138.76.77\n",
      "Connecting to zenodo.org (zenodo.org)|137.138.76.77|:443... connected.\n",
      "HTTP request sent, awaiting response... 200 OK\n",
      "Length: 21401 (21K) [image/jpeg]\n",
      "Saving to: ‘hummingbird.jpg’\n",
      "\n",
      "hummingbird.jpg     100%[===================>]  20.90K   117KB/s    in 0.2s    \n",
      "\n",
      "2021-04-07 12:51:51 (117 KB/s) - ‘hummingbird.jpg’ saved [21401/21401]\n",
      "\n",
      "--2021-04-07 12:51:51--  https://zenodo.org/record/4669282/files/normalizers.py\n",
      "Resolving zenodo.org (zenodo.org)... 137.138.76.77\n",
      "Connecting to zenodo.org (zenodo.org)|137.138.76.77|:443... connected.\n",
      "HTTP request sent, awaiting response... 200 OK\n",
      "Length: 10651 (10K) [application/octet-stream]\n",
      "Saving to: ‘normalizers.py’\n",
      "\n",
      "normalizers.py      100%[===================>]  10.40K  --.-KB/s    in 0s      \n",
      "\n",
      "2021-04-07 12:51:52 (250 MB/s) - ‘normalizers.py’ saved [10651/10651]\n",
      "\n",
      "--2021-04-07 12:51:52--  https://zenodo.org/record/4669282/files/normalizing_patch.npy\n",
      "Resolving zenodo.org (zenodo.org)... 137.138.76.77\n",
      "Connecting to zenodo.org (zenodo.org)|137.138.76.77|:443... connected.\n",
      "HTTP request sent, awaiting response... 200 OK\n",
      "Length: 27776 (27K) [application/octet-stream]\n",
      "Saving to: ‘normalizing_patch.npy’\n",
      "\n",
      "normalizing_patch.n 100%[===================>]  27.12K   163KB/s    in 0.2s    \n",
      "\n",
      "2021-04-07 12:51:54 (163 KB/s) - ‘normalizing_patch.npy’ saved [27776/27776]\n",
      "\n",
      "--2021-04-07 12:51:54--  https://zenodo.org/record/4669282/files/weights.h5\n",
      "Resolving zenodo.org (zenodo.org)... 137.138.76.77\n",
      "Connecting to zenodo.org (zenodo.org)|137.138.76.77|:443... connected.\n",
      "HTTP request sent, awaiting response... 200 OK\n",
      "Length: 537118144 (512M) [application/octet-stream]\n",
      "Saving to: ‘weights.h5’\n",
      "\n",
      "weights.h5          100%[===================>] 512.24M  4.72MB/s    in 2m 13s  \n",
      "\n",
      "2021-04-07 12:54:08 (3.85 MB/s) - ‘weights.h5’ saved [537118144/537118144]\n",
      "\n"
     ]
    }
   ],
   "source": [
    "!wget https://zenodo.org/record/4669282/files/elephant.jpg\n",
    "!mv elephant.jpg /content/drive/MyDrive/CNNinterpret/\n",
    "!wget https://zenodo.org/record/4669282/files/hummingbird.jpg\n",
    "!mv hummingbird.jpg /content/drive/MyDrive/CNNinterpret/\n",
    "!wget https://zenodo.org/record/4669282/files/normalizers.py\n",
    "!mv normalizers.py /content/drive/MyDrive/CNNinterpret/\n",
    "!wget https://zenodo.org/record/4669282/files/normalizing_patch.npy\n",
    "!mv normalizing_patch.npy /content/drive/MyDrive/CNNinterpret/\n",
    "!wget https://zenodo.org/record/4669282/files/weights.h5\n",
    "!mv weights.h5 /content/drive/MyDrive/CNNinterpret/"
   ]
  },
  {
   "cell_type": "markdown",
   "metadata": {
    "id": "tjKmcmDuZgPx"
   },
   "source": [
    "The files should now be all set for the experiments. Do not forget to link again your drive folder to the Colab notebook to run the experiments (you will find this already in the code where needed)\n"
   ]
  }
 ],
 "metadata": {
  "colab": {
   "collapsed_sections": [],
   "include_colab_link": true,
   "name": "data_setup.ipynb",
   "provenance": [],
   "toc_visible": true
  },
  "kernelspec": {
   "display_name": "Python 2",
   "language": "python",
   "name": "python2"
  },
  "language_info": {
   "codemirror_mode": {
    "name": "ipython",
    "version": 2
   },
   "file_extension": ".py",
   "mimetype": "text/x-python",
   "name": "python",
   "nbconvert_exporter": "python",
   "pygments_lexer": "ipython2",
   "version": "2.7.14"
  }
 },
 "nbformat": 4,
 "nbformat_minor": 1
}
